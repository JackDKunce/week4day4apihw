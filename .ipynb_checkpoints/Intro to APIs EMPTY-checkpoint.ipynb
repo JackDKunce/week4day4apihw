{
 "cells": [
  {
   "cell_type": "markdown",
   "id": "7196054f",
   "metadata": {},
   "source": [
    "# Working with APIs"
   ]
  },
  {
   "cell_type": "markdown",
   "id": "0547b71e",
   "metadata": {},
   "source": [
    "API stands for Application programming interface<br>\n",
    "APIs are a way for applications to talk to eachother<br>\n",
    "In python we use the requests package to handle the connection<br>\n",
    "<small><strong>Note: It is requests with an s not request(this is a different package)</strong></small><br>\n",
    "Most API's communicate with data in the form of JSON<br>\n",
    "JSON stands for JavaScript Object Notation"
   ]
  },
  {
   "cell_type": "code",
   "execution_count": 9,
   "id": "4db9d154",
   "metadata": {},
   "outputs": [],
   "source": [
    "#import the packages we need:\n",
    "import requests, json"
   ]
  },
  {
   "cell_type": "markdown",
   "id": "e8c2ce51",
   "metadata": {},
   "source": [
    "We will be connecting to the Ergast F1 Racer API today:\n",
    "http://ergast.com/mrd/\n",
    "\n",
    "to view JSON data nicely in the Chrome browser install the extension JSONview"
   ]
  },
  {
   "cell_type": "code",
   "execution_count": 10,
   "id": "52c440c6",
   "metadata": {},
   "outputs": [
    {
     "name": "stdout",
     "output_type": "stream",
     "text": [
      "Help on package requests:\n",
      "\n",
      "NAME\n",
      "    requests\n",
      "\n",
      "DESCRIPTION\n",
      "    Requests HTTP Library\n",
      "    ~~~~~~~~~~~~~~~~~~~~~\n",
      "    \n",
      "    Requests is an HTTP library, written in Python, for human beings.\n",
      "    Basic GET usage:\n",
      "    \n",
      "       >>> import requests\n",
      "       >>> r = requests.get('https://www.python.org')\n",
      "       >>> r.status_code\n",
      "       200\n",
      "       >>> b'Python is a programming language' in r.content\n",
      "       True\n",
      "    \n",
      "    ... or POST:\n",
      "    \n",
      "       >>> payload = dict(key1='value1', key2='value2')\n",
      "       >>> r = requests.post('https://httpbin.org/post', data=payload)\n",
      "       >>> print(r.text)\n",
      "       {\n",
      "         ...\n",
      "         \"form\": {\n",
      "           \"key1\": \"value1\",\n",
      "           \"key2\": \"value2\"\n",
      "         },\n",
      "         ...\n",
      "       }\n",
      "    \n",
      "    The other HTTP methods are supported - see `requests.api`. Full documentation\n",
      "    is at <https://requests.readthedocs.io>.\n",
      "    \n",
      "    :copyright: (c) 2017 by Kenneth Reitz.\n",
      "    :license: Apache 2.0, see LICENSE for more details.\n",
      "\n",
      "PACKAGE CONTENTS\n",
      "    __version__\n",
      "    _internal_utils\n",
      "    adapters\n",
      "    api\n",
      "    auth\n",
      "    certs\n",
      "    compat\n",
      "    cookies\n",
      "    exceptions\n",
      "    help\n",
      "    hooks\n",
      "    models\n",
      "    packages\n",
      "    sessions\n",
      "    status_codes\n",
      "    structures\n",
      "    utils\n",
      "\n",
      "FUNCTIONS\n",
      "    check_compatibility(urllib3_version, chardet_version, charset_normalizer_version)\n",
      "\n",
      "DATA\n",
      "    __author_email__ = 'me@kennethreitz.org'\n",
      "    __build__ = 143616\n",
      "    __cake__ = '✨ 🍰 ✨'\n",
      "    __copyright__ = 'Copyright Kenneth Reitz'\n",
      "    __description__ = 'Python HTTP for Humans.'\n",
      "    __license__ = 'Apache 2.0'\n",
      "    __title__ = 'requests'\n",
      "    __url__ = 'https://requests.readthedocs.io'\n",
      "    chardet_version = '4.0.0'\n",
      "    charset_normalizer_version = '2.0.4'\n",
      "    codes = <lookup 'status_codes'>\n",
      "\n",
      "VERSION\n",
      "    2.31.0\n",
      "\n",
      "AUTHOR\n",
      "    Kenneth Reitz\n",
      "\n",
      "FILE\n",
      "    c:\\users\\jackd\\anaconda3\\lib\\site-packages\\requests\\__init__.py\n",
      "\n",
      "\n"
     ]
    }
   ],
   "source": [
    "help(requests)"
   ]
  },
  {
   "cell_type": "code",
   "execution_count": 11,
   "id": "f60c1b4a",
   "metadata": {},
   "outputs": [],
   "source": [
    "url = 'https://ergast.com/api/f1/2008/5/driverStandings.json'"
   ]
  },
  {
   "cell_type": "code",
   "execution_count": 12,
   "id": "7b63a204",
   "metadata": {},
   "outputs": [
    {
     "name": "stdout",
     "output_type": "stream",
     "text": [
      "<Response [200]>\n",
      "<class 'requests.models.Response'>\n",
      "True\n"
     ]
    }
   ],
   "source": [
    "#response object\n",
    "url = \n",
    "\n",
    "\n",
    "response = requests.get('https://ergast.com/api/f1/2008/5/driverStandings.json')\n",
    "print(response)\n",
    "print(type(response))\n",
    "print(response.ok)"
   ]
  },
  {
   "cell_type": "code",
   "execution_count": 13,
   "id": "c6d1fdaf",
   "metadata": {},
   "outputs": [],
   "source": [
    "#check and make sure we got a successful response from the API\n"
   ]
  },
  {
   "cell_type": "code",
   "execution_count": 14,
   "id": "ed4d3256",
   "metadata": {},
   "outputs": [
    {
     "name": "stdout",
     "output_type": "stream",
     "text": [
      "{'MRData': {'xmlns': 'http://ergast.com/mrd/1.5', 'series': 'f1', 'url': 'http://ergast.com/api/f1/2008/5/driverstandings.json', 'limit': '30', 'offset': '0', 'total': '22', 'StandingsTable': {'season': '2008', 'round': '5', 'StandingsLists': [{'season': '2008', 'round': '5', 'DriverStandings': [{'position': '1', 'positionText': '1', 'points': '35', 'wins': '2', 'Driver': {'driverId': 'raikkonen', 'permanentNumber': '7', 'code': 'RAI', 'url': 'http://en.wikipedia.org/wiki/Kimi_R%C3%A4ikk%C3%B6nen', 'givenName': 'Kimi', 'familyName': 'Räikkönen', 'dateOfBirth': '1979-10-17', 'nationality': 'Finnish'}, 'Constructors': [{'constructorId': 'ferrari', 'url': 'http://en.wikipedia.org/wiki/Scuderia_Ferrari', 'name': 'Ferrari', 'nationality': 'Italian'}]}, {'position': '2', 'positionText': '2', 'points': '28', 'wins': '2', 'Driver': {'driverId': 'massa', 'permanentNumber': '19', 'code': 'MAS', 'url': 'http://en.wikipedia.org/wiki/Felipe_Massa', 'givenName': 'Felipe', 'familyName': 'Massa', 'dateOfBirth': '1981-04-25', 'nationality': 'Brazilian'}, 'Constructors': [{'constructorId': 'ferrari', 'url': 'http://en.wikipedia.org/wiki/Scuderia_Ferrari', 'name': 'Ferrari', 'nationality': 'Italian'}]}, {'position': '3', 'positionText': '3', 'points': '28', 'wins': '1', 'Driver': {'driverId': 'hamilton', 'permanentNumber': '44', 'code': 'HAM', 'url': 'http://en.wikipedia.org/wiki/Lewis_Hamilton', 'givenName': 'Lewis', 'familyName': 'Hamilton', 'dateOfBirth': '1985-01-07', 'nationality': 'British'}, 'Constructors': [{'constructorId': 'mclaren', 'url': 'http://en.wikipedia.org/wiki/McLaren', 'name': 'McLaren', 'nationality': 'British'}]}, {'position': '4', 'positionText': '4', 'points': '24', 'wins': '0', 'Driver': {'driverId': 'kubica', 'permanentNumber': '88', 'code': 'KUB', 'url': 'http://en.wikipedia.org/wiki/Robert_Kubica', 'givenName': 'Robert', 'familyName': 'Kubica', 'dateOfBirth': '1984-12-07', 'nationality': 'Polish'}, 'Constructors': [{'constructorId': 'bmw_sauber', 'url': 'http://en.wikipedia.org/wiki/BMW_Sauber', 'name': 'BMW Sauber', 'nationality': 'German'}]}, {'position': '5', 'positionText': '5', 'points': '20', 'wins': '0', 'Driver': {'driverId': 'heidfeld', 'code': 'HEI', 'url': 'http://en.wikipedia.org/wiki/Nick_Heidfeld', 'givenName': 'Nick', 'familyName': 'Heidfeld', 'dateOfBirth': '1977-05-10', 'nationality': 'German'}, 'Constructors': [{'constructorId': 'bmw_sauber', 'url': 'http://en.wikipedia.org/wiki/BMW_Sauber', 'name': 'BMW Sauber', 'nationality': 'German'}]}, {'position': '6', 'positionText': '6', 'points': '14', 'wins': '0', 'Driver': {'driverId': 'kovalainen', 'code': 'KOV', 'url': 'http://en.wikipedia.org/wiki/Heikki_Kovalainen', 'givenName': 'Heikki', 'familyName': 'Kovalainen', 'dateOfBirth': '1981-10-19', 'nationality': 'Finnish'}, 'Constructors': [{'constructorId': 'mclaren', 'url': 'http://en.wikipedia.org/wiki/McLaren', 'name': 'McLaren', 'nationality': 'British'}]}, {'position': '7', 'positionText': '7', 'points': '10', 'wins': '0', 'Driver': {'driverId': 'webber', 'code': 'WEB', 'url': 'http://en.wikipedia.org/wiki/Mark_Webber_(racing_driver)', 'givenName': 'Mark', 'familyName': 'Webber', 'dateOfBirth': '1976-08-27', 'nationality': 'Australian'}, 'Constructors': [{'constructorId': 'red_bull', 'url': 'http://en.wikipedia.org/wiki/Red_Bull_Racing', 'name': 'Red Bull', 'nationality': 'Austrian'}]}, {'position': '8', 'positionText': '8', 'points': '9', 'wins': '0', 'Driver': {'driverId': 'alonso', 'permanentNumber': '14', 'code': 'ALO', 'url': 'http://en.wikipedia.org/wiki/Fernando_Alonso', 'givenName': 'Fernando', 'familyName': 'Alonso', 'dateOfBirth': '1981-07-29', 'nationality': 'Spanish'}, 'Constructors': [{'constructorId': 'renault', 'url': 'http://en.wikipedia.org/wiki/Renault_in_Formula_One', 'name': 'Renault', 'nationality': 'French'}]}, {'position': '9', 'positionText': '9', 'points': '9', 'wins': '0', 'Driver': {'driverId': 'trulli', 'code': 'TRU', 'url': 'http://en.wikipedia.org/wiki/Jarno_Trulli', 'givenName': 'Jarno', 'familyName': 'Trulli', 'dateOfBirth': '1974-07-13', 'nationality': 'Italian'}, 'Constructors': [{'constructorId': 'toyota', 'url': 'http://en.wikipedia.org/wiki/Toyota_Racing', 'name': 'Toyota', 'nationality': 'Japanese'}]}, {'position': '10', 'positionText': '10', 'points': '8', 'wins': '0', 'Driver': {'driverId': 'rosberg', 'permanentNumber': '6', 'code': 'ROS', 'url': 'http://en.wikipedia.org/wiki/Nico_Rosberg', 'givenName': 'Nico', 'familyName': 'Rosberg', 'dateOfBirth': '1985-06-27', 'nationality': 'German'}, 'Constructors': [{'constructorId': 'williams', 'url': 'http://en.wikipedia.org/wiki/Williams_Grand_Prix_Engineering', 'name': 'Williams', 'nationality': 'British'}]}, {'position': '11', 'positionText': '11', 'points': '5', 'wins': '0', 'Driver': {'driverId': 'nakajima', 'code': 'NAK', 'url': 'http://en.wikipedia.org/wiki/Kazuki_Nakajima', 'givenName': 'Kazuki', 'familyName': 'Nakajima', 'dateOfBirth': '1985-01-11', 'nationality': 'Japanese'}, 'Constructors': [{'constructorId': 'williams', 'url': 'http://en.wikipedia.org/wiki/Williams_Grand_Prix_Engineering', 'name': 'Williams', 'nationality': 'British'}]}, {'position': '12', 'positionText': '12', 'points': '3', 'wins': '0', 'Driver': {'driverId': 'button', 'permanentNumber': '22', 'code': 'BUT', 'url': 'http://en.wikipedia.org/wiki/Jenson_Button', 'givenName': 'Jenson', 'familyName': 'Button', 'dateOfBirth': '1980-01-19', 'nationality': 'British'}, 'Constructors': [{'constructorId': 'honda', 'url': 'http://en.wikipedia.org/wiki/Honda_Racing_F1', 'name': 'Honda', 'nationality': 'Japanese'}]}, {'position': '13', 'positionText': '13', 'points': '2', 'wins': '0', 'Driver': {'driverId': 'bourdais', 'code': 'BOU', 'url': 'http://en.wikipedia.org/wiki/S%C3%A9bastien_Bourdais', 'givenName': 'Sébastien', 'familyName': 'Bourdais', 'dateOfBirth': '1979-02-28', 'nationality': 'French'}, 'Constructors': [{'constructorId': 'toro_rosso', 'url': 'http://en.wikipedia.org/wiki/Scuderia_Toro_Rosso', 'name': 'Toro Rosso', 'nationality': 'Italian'}]}, {'position': '14', 'positionText': '14', 'points': '0', 'wins': '0', 'Driver': {'driverId': 'coulthard', 'code': 'COU', 'url': 'http://en.wikipedia.org/wiki/David_Coulthard', 'givenName': 'David', 'familyName': 'Coulthard', 'dateOfBirth': '1971-03-27', 'nationality': 'British'}, 'Constructors': [{'constructorId': 'red_bull', 'url': 'http://en.wikipedia.org/wiki/Red_Bull_Racing', 'name': 'Red Bull', 'nationality': 'Austrian'}]}, {'position': '15', 'positionText': '15', 'points': '0', 'wins': '0', 'Driver': {'driverId': 'glock', 'code': 'GLO', 'url': 'http://en.wikipedia.org/wiki/Timo_Glock', 'givenName': 'Timo', 'familyName': 'Glock', 'dateOfBirth': '1982-03-18', 'nationality': 'German'}, 'Constructors': [{'constructorId': 'toyota', 'url': 'http://en.wikipedia.org/wiki/Toyota_Racing', 'name': 'Toyota', 'nationality': 'Japanese'}]}, {'position': '16', 'positionText': '16', 'points': '0', 'wins': '0', 'Driver': {'driverId': 'fisichella', 'code': 'FIS', 'url': 'http://en.wikipedia.org/wiki/Giancarlo_Fisichella', 'givenName': 'Giancarlo', 'familyName': 'Fisichella', 'dateOfBirth': '1973-01-14', 'nationality': 'Italian'}, 'Constructors': [{'constructorId': 'force_india', 'url': 'http://en.wikipedia.org/wiki/Racing_Point_Force_India', 'name': 'Force India', 'nationality': 'Indian'}]}, {'position': '17', 'positionText': '17', 'points': '0', 'wins': '0', 'Driver': {'driverId': 'barrichello', 'code': 'BAR', 'url': 'http://en.wikipedia.org/wiki/Rubens_Barrichello', 'givenName': 'Rubens', 'familyName': 'Barrichello', 'dateOfBirth': '1972-05-23', 'nationality': 'Brazilian'}, 'Constructors': [{'constructorId': 'honda', 'url': 'http://en.wikipedia.org/wiki/Honda_Racing_F1', 'name': 'Honda', 'nationality': 'Japanese'}]}, {'position': '18', 'positionText': '18', 'points': '0', 'wins': '0', 'Driver': {'driverId': 'piquet_jr', 'code': 'PIQ', 'url': 'http://en.wikipedia.org/wiki/Nelson_Piquet,_Jr.', 'givenName': 'Nelson', 'familyName': 'Piquet Jr.', 'dateOfBirth': '1985-07-25', 'nationality': 'Brazilian'}, 'Constructors': [{'constructorId': 'renault', 'url': 'http://en.wikipedia.org/wiki/Renault_in_Formula_One', 'name': 'Renault', 'nationality': 'French'}]}, {'position': '19', 'positionText': '19', 'points': '0', 'wins': '0', 'Driver': {'driverId': 'sato', 'code': 'SAT', 'url': 'http://en.wikipedia.org/wiki/Takuma_Sato', 'givenName': 'Takuma', 'familyName': 'Sato', 'dateOfBirth': '1977-01-28', 'nationality': 'Japanese'}, 'Constructors': [{'constructorId': 'super_aguri', 'url': 'http://en.wikipedia.org/wiki/Super_Aguri_F1', 'name': 'Super Aguri', 'nationality': 'Japanese'}]}, {'position': '20', 'positionText': '20', 'points': '0', 'wins': '0', 'Driver': {'driverId': 'davidson', 'code': 'DAV', 'url': 'http://en.wikipedia.org/wiki/Anthony_Davidson', 'givenName': 'Anthony', 'familyName': 'Davidson', 'dateOfBirth': '1979-04-18', 'nationality': 'British'}, 'Constructors': [{'constructorId': 'super_aguri', 'url': 'http://en.wikipedia.org/wiki/Super_Aguri_F1', 'name': 'Super Aguri', 'nationality': 'Japanese'}]}, {'position': '21', 'positionText': '21', 'points': '0', 'wins': '0', 'Driver': {'driverId': 'sutil', 'permanentNumber': '99', 'code': 'SUT', 'url': 'http://en.wikipedia.org/wiki/Adrian_Sutil', 'givenName': 'Adrian', 'familyName': 'Sutil', 'dateOfBirth': '1983-01-11', 'nationality': 'German'}, 'Constructors': [{'constructorId': 'force_india', 'url': 'http://en.wikipedia.org/wiki/Racing_Point_Force_India', 'name': 'Force India', 'nationality': 'Indian'}]}, {'position': '22', 'positionText': '22', 'points': '0', 'wins': '0', 'Driver': {'driverId': 'vettel', 'permanentNumber': '5', 'code': 'VET', 'url': 'http://en.wikipedia.org/wiki/Sebastian_Vettel', 'givenName': 'Sebastian', 'familyName': 'Vettel', 'dateOfBirth': '1987-07-03', 'nationality': 'German'}, 'Constructors': [{'constructorId': 'toro_rosso', 'url': 'http://en.wikipedia.org/wiki/Scuderia_Toro_Rosso', 'name': 'Toro Rosso', 'nationality': 'Italian'}]}]}]}}}\n"
     ]
    }
   ],
   "source": [
    "#view the response as a JSON\n",
    "print(response.json())"
   ]
  },
  {
   "cell_type": "code",
   "execution_count": 21,
   "id": "92e6cd2c",
   "metadata": {},
   "outputs": [
    {
     "data": {
      "text/plain": [
       "'raikkonen'"
      ]
     },
     "execution_count": 21,
     "metadata": {},
     "output_type": "execute_result"
    }
   ],
   "source": [
    "response = requests.get('https://ergast.com/api/f1/2008/5/driverStandings.json')\n",
    "\n",
    "data = response.json()\n",
    "data[\"MRData\"][\"StandingsTable\"][\"StandingsLists\"][0][\"DriverStandings\"][0][\"Driver\"][\"driverId\"]"
   ]
  },
  {
   "cell_type": "code",
   "execution_count": 22,
   "id": "f074dfcf",
   "metadata": {},
   "outputs": [
    {
     "data": {
      "text/plain": [
       "'raikkonen'"
      ]
     },
     "execution_count": 22,
     "metadata": {},
     "output_type": "execute_result"
    }
   ],
   "source": [
    "# We only want the Driver Standings\n",
    "response2 = requests.get('https://ergast.com/api/f1/2008/5/driverStandings.json')\n",
    "data2 = response2.json()\n",
    "data2[\"MRData\"][\"StandingsTable\"][\"StandingsLists\"][0][\"DriverStandings\"][0][\"Driver\"][\"driverId\"]"
   ]
  },
  {
   "cell_type": "code",
   "execution_count": null,
   "id": "be46a950",
   "metadata": {},
   "outputs": [],
   "source": []
  },
  {
   "cell_type": "code",
   "execution_count": null,
   "id": "3740c752",
   "metadata": {},
   "outputs": [],
   "source": []
  },
  {
   "cell_type": "markdown",
   "id": "6d546014",
   "metadata": {},
   "source": [
    "# <strong>Homework</strong>\n",
    "check out this Pokemon API https://pokeapi.co/\n",
    "Use the requests package to connect to this API and get and store data for 5 different pokemon.\n",
    "Get the pokemons: name, atleast one ability's name, base_experience, and the URL for its sprite (an image that shows up on screen) for the 'front_shiny', attack base_state, hp base_stat, defense base_stat"
   ]
  },
  {
   "cell_type": "code",
   "execution_count": 59,
   "id": "5a9081e3",
   "metadata": {},
   "outputs": [
    {
     "name": "stdout",
     "output_type": "stream",
     "text": [
      "For the selected pokemon: chimchar. Their first ability is scratch. They have an experience base of 62. Their appearance: https://raw.githubusercontent.com/PokeAPI/sprites/master/sprites/pokemon/shiny/390.png. Their attack, healthpoint, and defense base are as follows: 58, 44, 44\n"
     ]
    }
   ],
   "source": [
    "# poke1 = 'https://pokeapi.co/api/v2/pokemon/gengar'\n",
    "# poke2 = 'https://pokeapi.co/api/v2/pokemon/turtwig'\n",
    "# poke3 = 'https://pokeapi.co/api/v2/pokemon/chimchar'\n",
    "# poke4 = 'https://pokeapi.co/api/v2/pokemon/piplup'\n",
    "# poke5 = 'https://pokeapi.co/api/v2/pokemon/'\n",
    "# response = requests.get(poke1)\n",
    "\n",
    "# print(response.json())\n",
    "\n",
    "# name \n",
    "# atleast one ability's name \n",
    "# base_experience\n",
    "# the URL for its sprite (front_shiny)\n",
    "# attack base_state\n",
    "# hp base_stat\n",
    "# defense base_stat\n",
    "\n",
    "def get_pokemon(pokemon):\n",
    "    r = requests.get(f\"https://pokeapi.co/api/v2/pokemon/{pokemon}\")\n",
    "    data = r.json()\n",
    "    name = data[\"forms\"][0][\"name\"]\n",
    "    ability = data[\"moves\"][2][\"move\"][\"name\"]\n",
    "    exp_base = data[\"base_experience\"]\n",
    "    sprite_url = data[\"sprites\"][\"front_shiny\"]\n",
    "    atk_base = data[\"stats\"][1][\"base_stat\"]\n",
    "    hp_base = data[\"stats\"][0][\"base_stat\"]\n",
    "    def_base = data[\"stats\"][2][\"base_stat\"]\n",
    "    return print(f\"For the selected pokemon: {name}. Their first ability is {ability}. They have an experience base of {exp_base}. Their appearance: {sprite_url}. Their attack, healthpoint, and defense base are as follows: {atk_base}, {hp_base}, {def_base}\")\n",
    "\n",
    "\n",
    "get_pokemon(\"chimchar\")"
   ]
  }
 ],
 "metadata": {
  "kernelspec": {
   "display_name": "Python 3 (ipykernel)",
   "language": "python",
   "name": "python3"
  },
  "language_info": {
   "codemirror_mode": {
    "name": "ipython",
    "version": 3
   },
   "file_extension": ".py",
   "mimetype": "text/x-python",
   "name": "python",
   "nbconvert_exporter": "python",
   "pygments_lexer": "ipython3",
   "version": "3.11.5"
  }
 },
 "nbformat": 4,
 "nbformat_minor": 5
}
